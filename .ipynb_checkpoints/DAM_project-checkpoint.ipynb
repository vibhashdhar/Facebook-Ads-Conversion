{
 "cells": [
  {
   "cell_type": "code",
   "execution_count": 23,
   "id": "fef46155",
   "metadata": {
    "lines_to_next_cell": 0
   },
   "outputs": [
    {
     "name": "stdout",
     "output_type": "stream",
     "text": [
      "'data.frame':\t1143 obs. of  11 variables:\n",
      " $ ad_id              : int  708746 708749 708771 708815 708818 708820 708889 708895 708953 708958 ...\n",
      " $ xyz_campaign_id    : int  916 916 916 916 916 916 916 916 916 916 ...\n",
      " $ fb_campaign_id     : int  103916 103917 103920 103928 103928 103929 103940 103941 103951 103952 ...\n",
      " $ age                : chr  \"30-34\" \"30-34\" \"30-34\" \"30-34\" ...\n",
      " $ gender             : chr  \"M\" \"M\" \"M\" \"M\" ...\n",
      " $ interest           : int  15 16 20 28 28 29 15 16 27 28 ...\n",
      " $ Impressions        : int  7350 17861 693 4259 4133 1915 15615 10951 2355 9502 ...\n",
      " $ Clicks             : int  1 2 0 1 1 0 3 1 1 3 ...\n",
      " $ Spent              : num  1.43 1.82 0 1.25 1.29 ...\n",
      " $ Total_Conversion   : int  2 2 1 1 1 1 1 1 1 1 ...\n",
      " $ Approved_Conversion: int  1 0 0 0 1 1 0 1 0 0 ...\n"
     ]
    }
   ],
   "source": [
    "library(randomForest)\n",
    "library(caret)\n",
    "library(tidyverse)\n",
    "library(corrgram)\n",
    "library(GGally)\n",
    "data <- read.csv('KAG_conversion_data.csv', header=TRUE)\n",
    "str(data)"
   ]
  },
  {
   "cell_type": "code",
   "execution_count": 2,
   "id": "4a1e8b4c",
   "metadata": {
    "lines_to_next_cell": 0
   },
   "outputs": [
    {
     "data": {
      "image/png": "[encoded data removed]",
      "text/plain": [
       "plot without title"
      ]
     },
     "metadata": {
      "image/png": {
       "height": 420,
       "width": 420
      }
     },
     "output_type": "display_data"
    }
   ],
   "source": [
    "ggpairs(data %>% select (interest, Impressions, Clicks, Total_Conversion, Approved_Conversion))"
   ]
  },
  {
   "cell_type": "code",
   "execution_count": 3,
   "id": "eb6896f9",
   "metadata": {
    "lines_to_next_cell": 0
   },
   "outputs": [
    {
     "name": "stdout",
     "output_type": "stream",
     "text": [
      "'data.frame':\t800 obs. of  11 variables:\n",
      " $ ad_id              : int  782228 950787 747852 1121100 748225 1122003 1122282 1121369 1121255 1121454 ...\n",
      " $ xyz_campaign_id    : int  936 936 936 1178 936 1178 1178 1178 1178 1178 ...\n",
      " $ fb_campaign_id     : int  116517 123558 110943 144532 111005 144691 144737 144585 144565 144599 ...\n",
      " $ age                : chr  \"40-44\" \"30-34\" \"30-34\" \"30-34\" ...\n",
      " $ gender             : chr  \"F\" \"M\" \"F\" \"M\" ...\n",
      " $ interest           : int  63 27 26 15 15 63 30 28 63 16 ...\n",
      " $ Impressions        : int  12318 199 10126 3052003 18602 975792 22859 826205 20423 75589 ...\n",
      " $ Clicks             : int  5 0 3 340 5 210 6 125 1 6 ...\n",
      " $ Spent              : num  6.34 0 4.62 639.95 8.86 ...\n",
      " $ Total_Conversion   : int  1 1 1 60 1 10 1 5 1 1 ...\n",
      " $ Approved_Conversion: int  1 0 0 17 0 4 0 1 0 1 ...\n",
      "'data.frame':\t343 obs. of  11 variables:\n",
      " $ ad_id              : int  708746 708771 708889 709023 709040 709059 709323 709328 709544 709614 ...\n",
      " $ xyz_campaign_id    : int  916 916 916 916 916 916 916 916 916 916 ...\n",
      " $ fb_campaign_id     : int  103916 103920 103940 103962 103965 103968 104012 104013 104049 104061 ...\n",
      " $ age                : chr  \"30-34\" \"30-34\" \"30-34\" \"30-34\" ...\n",
      " $ gender             : chr  \"M\" \"M\" \"M\" \"M\" ...\n",
      " $ interest           : int  15 20 15 7 16 20 15 16 29 16 ...\n",
      " $ Impressions        : int  7350 693 15615 735 5120 14669 7132 3332 7440 19113 ...\n",
      " $ Clicks             : int  1 0 3 0 0 7 2 0 2 4 ...\n",
      " $ Spent              : num  1.43 0 4.77 0 0 ...\n",
      " $ Total_Conversion   : int  2 1 1 1 1 1 1 1 1 1 ...\n",
      " $ Approved_Conversion: int  1 0 0 0 0 1 0 1 1 0 ...\n"
     ]
    }
   ],
   "source": [
    "# random tree forest model\n",
    "# split the data into 70-30\n",
    "\n",
    "set.seed(123)\n",
    "train_idx <- sample(nrow(data), .70*nrow(data))\n",
    "\n",
    "data_train <- data[train_idx,]\n",
    "data_test <- data[-train_idx,]\n",
    "\n",
    "str(data_train)\n",
    "str(data_test)"
   ]
  },
  {
   "cell_type": "markdown",
   "id": "aacf5667",
   "metadata": {},
   "source": [
    "# **Random Forest**"
   ]
  },
  {
   "cell_type": "code",
   "execution_count": 4,
   "id": "32b92bb7",
   "metadata": {
    "lines_to_next_cell": 0
   },
   "outputs": [
    {
     "name": "stdout",
     "output_type": "stream",
     "text": [
      "\n",
      "Call:\n",
      " randomForest(formula = Approved_Conversion ~ ., data = data_train) \n",
      "               Type of random forest: regression\n",
      "                     Number of trees: 500\n",
      "No. of variables tried at each split: 3\n",
      "\n",
      "          Mean of squared residuals: 0.8803342\n",
      "                    % Var explained: 64.99\n"
     ]
    }
   ],
   "source": [
    "# random tree forest model\n",
    "set.seed(222)\n",
    "rf <- randomForest(Approved_Conversion ~ ., data = data_train)\n",
    "print(rf)"
   ]
  },
  {
   "cell_type": "code",
   "execution_count": 5,
   "id": "e699993d",
   "metadata": {
    "lines_to_next_cell": 0
   },
   "outputs": [
    {
     "data": {
      "text/html": [
       "0.588484114912136"
      ],
      "text/latex": [
       "0.588484114912136"
      ],
      "text/markdown": [
       "0.588484114912136"
      ],
      "text/plain": [
       "[1] 0.5884841"
      ]
     },
     "metadata": {},
     "output_type": "display_data"
    },
    {
     "data": {
      "text/html": [
       "1.02845909995641"
      ],
      "text/latex": [
       "1.02845909995641"
      ],
      "text/markdown": [
       "1.02845909995641"
      ],
      "text/plain": [
       "[1] 1.028459"
      ]
     },
     "metadata": {},
     "output_type": "display_data"
    }
   ],
   "source": [
    "predict00 <- predict(rf, data_train)\n",
    "RMSE(predict00, data_train$Approved_Conversion/mean(data_train$Approved_Conversion))\n",
    "prediction01 <- predict(rf, data_test)\n",
    "RMSE(prediction01, data_test$Approved_Conversion/mean(data_test$Approved_Conversion))\n"
   ]
  },
  {
   "cell_type": "markdown",
   "id": "d6648502",
   "metadata": {},
   "source": [
    "**Tuning the Model**\n",
    "\n",
    "Keeping only age, gender, interest, Clicks, Spent & Total Conversion variables and getting rid of others."
   ]
  },
  {
   "cell_type": "code",
   "execution_count": 6,
   "id": "83f9c0e5",
   "metadata": {},
   "outputs": [
    {
     "data": {
      "text/html": [
       "<table class=\"dataframe\">\n",
       "<caption>A data.frame: 6 × 5</caption>\n",
       "<thead>\n",
       "\t<tr><th></th><th scope=col>age</th><th scope=col>gender</th><th scope=col>Spent</th><th scope=col>Clicks</th><th scope=col>Approved_Conversion</th></tr>\n",
       "\t<tr><th></th><th scope=col>&lt;chr&gt;</th><th scope=col>&lt;chr&gt;</th><th scope=col>&lt;dbl&gt;</th><th scope=col>&lt;int&gt;</th><th scope=col>&lt;int&gt;</th></tr>\n",
       "</thead>\n",
       "<tbody>\n",
       "\t<tr><th scope=row>415</th><td>40-44</td><td>F</td><td>  6.34</td><td>  5</td><td> 1</td></tr>\n",
       "\t<tr><th scope=row>463</th><td>30-34</td><td>M</td><td>  0.00</td><td>  0</td><td> 0</td></tr>\n",
       "\t<tr><th scope=row>179</th><td>30-34</td><td>F</td><td>  4.62</td><td>  3</td><td> 0</td></tr>\n",
       "\t<tr><th scope=row>526</th><td>30-34</td><td>M</td><td>639.95</td><td>340</td><td>17</td></tr>\n",
       "\t<tr><th scope=row>195</th><td>45-49</td><td>F</td><td>  8.86</td><td>  5</td><td> 0</td></tr>\n",
       "\t<tr><th scope=row>938</th><td>35-39</td><td>F</td><td>293.88</td><td>210</td><td> 4</td></tr>\n",
       "</tbody>\n",
       "</table>\n"
      ],
      "text/latex": [
       "A data.frame: 6 × 5\n",
       "\\begin{tabular}{r|lllll}\n",
       "  & age & gender & Spent & Clicks & Approved\\_Conversion\\\\\n",
       "  & <chr> & <chr> & <dbl> & <int> & <int>\\\\\n",
       "\\hline\n",
       "\t415 & 40-44 & F &   6.34 &   5 &  1\\\\\n",
       "\t463 & 30-34 & M &   0.00 &   0 &  0\\\\\n",
       "\t179 & 30-34 & F &   4.62 &   3 &  0\\\\\n",
       "\t526 & 30-34 & M & 639.95 & 340 & 17\\\\\n",
       "\t195 & 45-49 & F &   8.86 &   5 &  0\\\\\n",
       "\t938 & 35-39 & F & 293.88 & 210 &  4\\\\\n",
       "\\end{tabular}\n"
      ],
      "text/markdown": [
       "\n",
       "A data.frame: 6 × 5\n",
       "\n",
       "| <!--/--> | age &lt;chr&gt; | gender &lt;chr&gt; | Spent &lt;dbl&gt; | Clicks &lt;int&gt; | Approved_Conversion &lt;int&gt; |\n",
       "|---|---|---|---|---|---|\n",
       "| 415 | 40-44 | F |   6.34 |   5 |  1 |\n",
       "| 463 | 30-34 | M |   0.00 |   0 |  0 |\n",
       "| 179 | 30-34 | F |   4.62 |   3 |  0 |\n",
       "| 526 | 30-34 | M | 639.95 | 340 | 17 |\n",
       "| 195 | 45-49 | F |   8.86 |   5 |  0 |\n",
       "| 938 | 35-39 | F | 293.88 | 210 |  4 |\n",
       "\n"
      ],
      "text/plain": [
       "    age   gender Spent  Clicks Approved_Conversion\n",
       "415 40-44 F        6.34   5     1                 \n",
       "463 30-34 M        0.00   0     0                 \n",
       "179 30-34 F        4.62   3     0                 \n",
       "526 30-34 M      639.95 340    17                 \n",
       "195 45-49 F        8.86   5     0                 \n",
       "938 35-39 F      293.88 210     4                 "
      ]
     },
     "metadata": {},
     "output_type": "display_data"
    },
    {
     "data": {
      "text/html": [
       "<table class=\"dataframe\">\n",
       "<caption>A data.frame: 6 × 5</caption>\n",
       "<thead>\n",
       "\t<tr><th></th><th scope=col>age</th><th scope=col>gender</th><th scope=col>Spent</th><th scope=col>Clicks</th><th scope=col>Approved_Conversion</th></tr>\n",
       "\t<tr><th></th><th scope=col>&lt;chr&gt;</th><th scope=col>&lt;chr&gt;</th><th scope=col>&lt;dbl&gt;</th><th scope=col>&lt;int&gt;</th><th scope=col>&lt;int&gt;</th></tr>\n",
       "</thead>\n",
       "<tbody>\n",
       "\t<tr><th scope=row>1</th><td>30-34</td><td>M</td><td> 1.43</td><td>1</td><td>1</td></tr>\n",
       "\t<tr><th scope=row>3</th><td>30-34</td><td>M</td><td> 0.00</td><td>0</td><td>0</td></tr>\n",
       "\t<tr><th scope=row>7</th><td>30-34</td><td>M</td><td> 4.77</td><td>3</td><td>0</td></tr>\n",
       "\t<tr><th scope=row>12</th><td>30-34</td><td>M</td><td> 0.00</td><td>0</td><td>0</td></tr>\n",
       "\t<tr><th scope=row>14</th><td>30-34</td><td>M</td><td> 0.00</td><td>0</td><td>0</td></tr>\n",
       "\t<tr><th scope=row>15</th><td>30-34</td><td>M</td><td>10.28</td><td>7</td><td>1</td></tr>\n",
       "</tbody>\n",
       "</table>\n"
      ],
      "text/latex": [
       "A data.frame: 6 × 5\n",
       "\\begin{tabular}{r|lllll}\n",
       "  & age & gender & Spent & Clicks & Approved\\_Conversion\\\\\n",
       "  & <chr> & <chr> & <dbl> & <int> & <int>\\\\\n",
       "\\hline\n",
       "\t1 & 30-34 & M &  1.43 & 1 & 1\\\\\n",
       "\t3 & 30-34 & M &  0.00 & 0 & 0\\\\\n",
       "\t7 & 30-34 & M &  4.77 & 3 & 0\\\\\n",
       "\t12 & 30-34 & M &  0.00 & 0 & 0\\\\\n",
       "\t14 & 30-34 & M &  0.00 & 0 & 0\\\\\n",
       "\t15 & 30-34 & M & 10.28 & 7 & 1\\\\\n",
       "\\end{tabular}\n"
      ],
      "text/markdown": [
       "\n",
       "A data.frame: 6 × 5\n",
       "\n",
       "| <!--/--> | age &lt;chr&gt; | gender &lt;chr&gt; | Spent &lt;dbl&gt; | Clicks &lt;int&gt; | Approved_Conversion &lt;int&gt; |\n",
       "|---|---|---|---|---|---|\n",
       "| 1 | 30-34 | M |  1.43 | 1 | 1 |\n",
       "| 3 | 30-34 | M |  0.00 | 0 | 0 |\n",
       "| 7 | 30-34 | M |  4.77 | 3 | 0 |\n",
       "| 12 | 30-34 | M |  0.00 | 0 | 0 |\n",
       "| 14 | 30-34 | M |  0.00 | 0 | 0 |\n",
       "| 15 | 30-34 | M | 10.28 | 7 | 1 |\n",
       "\n"
      ],
      "text/plain": [
       "   age   gender Spent Clicks Approved_Conversion\n",
       "1  30-34 M       1.43 1      1                  \n",
       "3  30-34 M       0.00 0      0                  \n",
       "7  30-34 M       4.77 3      0                  \n",
       "12 30-34 M       0.00 0      0                  \n",
       "14 30-34 M       0.00 0      0                  \n",
       "15 30-34 M      10.28 7      1                  "
      ]
     },
     "metadata": {},
     "output_type": "display_data"
    }
   ],
   "source": [
    "data_train <- data_train%>%\n",
    "        select(age, gender, Spent, Clicks, Approved_Conversion)\n",
    "data_test <- data_test %>%\n",
    "  select(age, gender, Spent, Clicks, Approved_Conversion)\n",
    "head(data_train)\n",
    "head(data_test)"
   ]
  },
  {
   "cell_type": "code",
   "execution_count": 7,
   "id": "25f74c14",
   "metadata": {
    "lines_to_next_cell": 0
   },
   "outputs": [
    {
     "name": "stdout",
     "output_type": "stream",
     "text": [
      "\n",
      "Call:\n",
      " randomForest(formula = Approved_Conversion ~ ., data = data_train) \n",
      "               Type of random forest: regression\n",
      "                     Number of trees: 500\n",
      "No. of variables tried at each split: 1\n",
      "\n",
      "          Mean of squared residuals: 1.463104\n",
      "                    % Var explained: 41.81\n"
     ]
    }
   ],
   "source": [
    "rf_model1 <- randomForest(Approved_Conversion ~ ., data = data_train)\n",
    "\n",
    "print(rf_model1)\n"
   ]
  },
  {
   "cell_type": "code",
   "execution_count": 8,
   "id": "44b8a0d1",
   "metadata": {
    "lines_to_next_cell": 0
   },
   "outputs": [
    {
     "data": {
      "text/html": [
       "1.14434798332653"
      ],
      "text/latex": [
       "1.14434798332653"
      ],
      "text/markdown": [
       "1.14434798332653"
      ],
      "text/plain": [
       "[1] 1.144348"
      ]
     },
     "metadata": {},
     "output_type": "display_data"
    }
   ],
   "source": [
    "prediction0 <- predict(rf_model1, data_train)\n",
    "RMSE(prediction0, data_train$Approved_Conversion/mean(data_train$Approved_Conversion))\n"
   ]
  },
  {
   "cell_type": "code",
   "execution_count": 9,
   "id": "0773447f",
   "metadata": {},
   "outputs": [
    {
     "data": {
      "text/html": [
       "1.58196344155264"
      ],
      "text/latex": [
       "1.58196344155264"
      ],
      "text/markdown": [
       "1.58196344155264"
      ],
      "text/plain": [
       "[1] 1.581963"
      ]
     },
     "metadata": {},
     "output_type": "display_data"
    }
   ],
   "source": [
    "prediction <- predict(rf_model1, data_test)\n",
    "\n",
    "RMSE(prediction, data_test$Approved_Conversion/mean(data_test$Approved_Conversion))"
   ]
  },
  {
   "cell_type": "markdown",
   "id": "4fb60132",
   "metadata": {},
   "source": [
    "We can further check if we can predict the possibility of Approved Conversion by converting the data to factor and generating the model again."
   ]
  },
  {
   "cell_type": "code",
   "execution_count": 10,
   "id": "e1e8e894",
   "metadata": {
    "lines_to_next_cell": 0
   },
   "outputs": [
    {
     "name": "stdout",
     "output_type": "stream",
     "text": [
      "Rows: 1,143\n",
      "Columns: 11\n",
      "$ ad_id               \u001b[3m\u001b[90m<int>\u001b[39m\u001b[23m 708746, 708749, 708771, 708815, 708818, 708820, 70~\n",
      "$ xyz_campaign_id     \u001b[3m\u001b[90m<int>\u001b[39m\u001b[23m 916, 916, 916, 916, 916, 916, 916, 916, 916, 916, ~\n",
      "$ fb_campaign_id      \u001b[3m\u001b[90m<int>\u001b[39m\u001b[23m 103916, 103917, 103920, 103928, 103928, 103929, 10~\n",
      "$ age                 \u001b[3m\u001b[90m<chr>\u001b[39m\u001b[23m \"30-34\", \"30-34\", \"30-34\", \"30-34\", \"30-34\", \"30-3~\n",
      "$ gender              \u001b[3m\u001b[90m<chr>\u001b[39m\u001b[23m \"M\", \"M\", \"M\", \"M\", \"M\", \"M\", \"M\", \"M\", \"M\", \"M\", ~\n",
      "$ interest            \u001b[3m\u001b[90m<int>\u001b[39m\u001b[23m 15, 16, 20, 28, 28, 29, 15, 16, 27, 28, 31, 7, 16,~\n",
      "$ Impressions         \u001b[3m\u001b[90m<int>\u001b[39m\u001b[23m 7350, 17861, 693, 4259, 4133, 1915, 15615, 10951, ~\n",
      "$ Clicks              \u001b[3m\u001b[90m<int>\u001b[39m\u001b[23m 1, 2, 0, 1, 1, 0, 3, 1, 1, 3, 0, 0, 0, 0, 7, 0, 1,~\n",
      "$ Spent               \u001b[3m\u001b[90m<dbl>\u001b[39m\u001b[23m 1.43, 1.82, 0.00, 1.25, 1.29, 0.00, 4.77, 1.27, 1.~\n",
      "$ Total_Conversion    \u001b[3m\u001b[90m<int>\u001b[39m\u001b[23m 2, 2, 1, 1, 1, 1, 1, 1, 1, 1, 1, 1, 1, 1, 1, 1, 1,~\n",
      "$ Approved_Conversion \u001b[3m\u001b[90m<fct>\u001b[39m\u001b[23m 1, 0, 0, 0, 1, 1, 0, 1, 0, 0, 0, 0, 0, 0, 1, 1, 0,~\n"
     ]
    }
   ],
   "source": [
    "data$Approved_Conversion[data$Approved_Conversion == 0] <- 0\n",
    "data$Approved_Conversion[data$Approved_Conversion > 0] <- 1\n",
    "\n",
    "data$Approved_Conversion <- as.factor(data$Approved_Conversion)\n",
    "glimpse(data)\n"
   ]
  },
  {
   "cell_type": "markdown",
   "id": "cb47d581",
   "metadata": {},
   "source": [
    "Split the data into test and train sets at ratio 70/30"
   ]
  },
  {
   "cell_type": "code",
   "execution_count": 11,
   "id": "1f72025a",
   "metadata": {
    "lines_to_next_cell": 0
   },
   "outputs": [
    {
     "name": "stdout",
     "output_type": "stream",
     "text": [
      "'data.frame':\t800 obs. of  11 variables:\n",
      " $ ad_id              : int  782228 950787 747852 1121100 748225 1122003 1122282 1121369 1121255 1121454 ...\n",
      " $ xyz_campaign_id    : int  936 936 936 1178 936 1178 1178 1178 1178 1178 ...\n",
      " $ fb_campaign_id     : int  116517 123558 110943 144532 111005 144691 144737 144585 144565 144599 ...\n",
      " $ age                : chr  \"40-44\" \"30-34\" \"30-34\" \"30-34\" ...\n",
      " $ gender             : chr  \"F\" \"M\" \"F\" \"M\" ...\n",
      " $ interest           : int  63 27 26 15 15 63 30 28 63 16 ...\n",
      " $ Impressions        : int  12318 199 10126 3052003 18602 975792 22859 826205 20423 75589 ...\n",
      " $ Clicks             : int  5 0 3 340 5 210 6 125 1 6 ...\n",
      " $ Spent              : num  6.34 0 4.62 639.95 8.86 ...\n",
      " $ Total_Conversion   : int  1 1 1 60 1 10 1 5 1 1 ...\n",
      " $ Approved_Conversion: Factor w/ 2 levels \"0\",\"1\": 2 1 1 2 1 2 1 2 1 2 ...\n",
      "'data.frame':\t343 obs. of  11 variables:\n",
      " $ ad_id              : int  708746 708771 708889 709023 709040 709059 709323 709328 709544 709614 ...\n",
      " $ xyz_campaign_id    : int  916 916 916 916 916 916 916 916 916 916 ...\n",
      " $ fb_campaign_id     : int  103916 103920 103940 103962 103965 103968 104012 104013 104049 104061 ...\n",
      " $ age                : chr  \"30-34\" \"30-34\" \"30-34\" \"30-34\" ...\n",
      " $ gender             : chr  \"M\" \"M\" \"M\" \"M\" ...\n",
      " $ interest           : int  15 20 15 7 16 20 15 16 29 16 ...\n",
      " $ Impressions        : int  7350 693 15615 735 5120 14669 7132 3332 7440 19113 ...\n",
      " $ Clicks             : int  1 0 3 0 0 7 2 0 2 4 ...\n",
      " $ Spent              : num  1.43 0 4.77 0 0 ...\n",
      " $ Total_Conversion   : int  2 1 1 1 1 1 1 1 1 1 ...\n",
      " $ Approved_Conversion: Factor w/ 2 levels \"0\",\"1\": 2 1 1 1 1 2 1 2 2 1 ...\n"
     ]
    }
   ],
   "source": [
    "set.seed(123)\n",
    "index <- sample(nrow(data), 0.70*nrow(data))\n",
    "train <- data[index, ]\n",
    "test <- data[-index, ]\n",
    "\n",
    "str(train)\n",
    "str(test)"
   ]
  },
  {
   "cell_type": "markdown",
   "id": "81d746b0",
   "metadata": {},
   "source": [
    "Again, make a random forest model."
   ]
  },
  {
   "cell_type": "code",
   "execution_count": 12,
   "id": "ff59a19a",
   "metadata": {
    "lines_to_next_cell": 0
   },
   "outputs": [
    {
     "name": "stdout",
     "output_type": "stream",
     "text": [
      "\n",
      "Call:\n",
      " randomForest(formula = Approved_Conversion ~ age + gender + interest +      Impressions + Clicks + Spent + Total_Conversion, data = train) \n",
      "               Type of random forest: classification\n",
      "                     Number of trees: 500\n",
      "No. of variables tried at each split: 2\n",
      "\n",
      "        OOB estimate of  error rate: 38.88%\n",
      "Confusion matrix:\n",
      "    0   1 class.error\n",
      "0 268 127    0.321519\n",
      "1 184 221    0.454321\n"
     ]
    }
   ],
   "source": [
    "set.seed(1234)\n",
    "rfmodel3 <- randomForest(Approved_Conversion ~ age+gender+interest+Impressions+Clicks+Spent+Total_Conversion, train)\n",
    "print(rfmodel3)"
   ]
  },
  {
   "cell_type": "code",
   "execution_count": 13,
   "id": "71fb402c",
   "metadata": {
    "lines_to_next_cell": 0
   },
   "outputs": [
    {
     "name": "stdout",
     "output_type": "stream",
     "text": [
      "    0   1 class.error\n",
      "0 268 127    0.321519\n",
      "1 184 221    0.454321\n"
     ]
    }
   ],
   "source": [
    "print(rfmodel3$confusion)\n"
   ]
  },
  {
   "cell_type": "markdown",
   "id": "76b1ec80",
   "metadata": {},
   "source": [
    "We will check the accuracy by predicting the train and test data sets."
   ]
  },
  {
   "cell_type": "code",
   "execution_count": 24,
   "id": "09a25d19",
   "metadata": {
    "lines_to_next_cell": 0
   },
   "outputs": [
    {
     "data": {
      "text/plain": [
       "Confusion Matrix and Statistics\n",
       "\n",
       "          Reference\n",
       "Prediction   0   1\n",
       "         0 395  26\n",
       "         1   0 379\n",
       "                                          \n",
       "               Accuracy : 0.9675          \n",
       "                 95% CI : (0.9527, 0.9787)\n",
       "    No Information Rate : 0.5062          \n",
       "    P-Value [Acc > NIR] : < 2.2e-16       \n",
       "                                          \n",
       "                  Kappa : 0.935           \n",
       "                                          \n",
       " Mcnemar's Test P-Value : 9.443e-07       \n",
       "                                          \n",
       "            Sensitivity : 1.0000          \n",
       "            Specificity : 0.9358          \n",
       "         Pos Pred Value : 0.9382          \n",
       "         Neg Pred Value : 1.0000          \n",
       "             Prevalence : 0.4938          \n",
       "         Detection Rate : 0.4938          \n",
       "   Detection Prevalence : 0.5262          \n",
       "      Balanced Accuracy : 0.9679          \n",
       "                                          \n",
       "       'Positive' Class : 0               \n",
       "                                          "
      ]
     },
     "metadata": {},
     "output_type": "display_data"
    }
   ],
   "source": [
    "library(e1071)\n",
    "set.seed(1234)\n",
    "p1 <- predict(rfmodel3, train)\n",
    "confusionMatrix(p1, train$Approved_Conversion)"
   ]
  },
  {
   "cell_type": "markdown",
   "id": "57eaaf2b",
   "metadata": {},
   "source": [
    "Since we used training data to for prediction, we can see that the accuracy is quite high.\n",
    "We can now check similarly using test data."
   ]
  },
  {
   "cell_type": "code",
   "execution_count": 15,
   "id": "bcc1135b",
   "metadata": {
    "lines_to_next_cell": 0
   },
   "outputs": [
    {
     "data": {
      "text/plain": [
       "Confusion Matrix and Statistics\n",
       "\n",
       "          Reference\n",
       "Prediction   0   1\n",
       "         0 127  70\n",
       "         1  37 109\n",
       "                                          \n",
       "               Accuracy : 0.688           \n",
       "                 95% CI : (0.6361, 0.7367)\n",
       "    No Information Rate : 0.5219          \n",
       "    P-Value [Acc > NIR] : 2.93e-10        \n",
       "                                          \n",
       "                  Kappa : 0.3801          \n",
       "                                          \n",
       " Mcnemar's Test P-Value : 0.001978        \n",
       "                                          \n",
       "            Sensitivity : 0.7744          \n",
       "            Specificity : 0.6089          \n",
       "         Pos Pred Value : 0.6447          \n",
       "         Neg Pred Value : 0.7466          \n",
       "             Prevalence : 0.4781          \n",
       "         Detection Rate : 0.3703          \n",
       "   Detection Prevalence : 0.5743          \n",
       "      Balanced Accuracy : 0.6917          \n",
       "                                          \n",
       "       'Positive' Class : 0               \n",
       "                                          "
      ]
     },
     "metadata": {},
     "output_type": "display_data"
    }
   ],
   "source": [
    "set.seed(1234)\n",
    "p2 <- predict(rfmodel3, test)\n",
    "confusionMatrix(p2, test$Approved_Conversion)"
   ]
  },
  {
   "cell_type": "markdown",
   "id": "d5ee9a17",
   "metadata": {
    "lines_to_next_cell": 0
   },
   "source": [
    "We can plot the model"
   ]
  },
  {
   "cell_type": "code",
   "execution_count": 16,
   "id": "0ad58d64",
   "metadata": {},
   "outputs": [
    {
     "data": {
      "image/png": "[encoded data removed]",
      "text/plain": [
       "Plot with title \"rfmodel3\""
      ]
     },
     "metadata": {
      "image/png": {
       "height": 420,
       "width": 420
      }
     },
     "output_type": "display_data"
    }
   ],
   "source": [
    "plot(rfmodel3)"
   ]
  },
  {
   "cell_type": "markdown",
   "id": "afeb8163",
   "metadata": {},
   "source": [
    "The error tends to decrease as the number of trees increase.\n",
    "\n",
    "## **Tuning the model**"
   ]
  },
  {
   "cell_type": "code",
   "execution_count": 17,
   "id": "24819360",
   "metadata": {},
   "outputs": [
    {
     "name": "stdout",
     "output_type": "stream",
     "text": [
      "mtry = 2  OOB error = 38.75% \n",
      "Searching left ...\n",
      "mtry = 4 \tOOB error = 39% \n",
      "-0.006451613 20 \n",
      "Searching right ...\n",
      "mtry = 1 \tOOB error = 33.12% \n",
      "0.1451613 20 \n"
     ]
    },
    {
     "data": {
      "image/png": "[encoded data removed]",
      "text/plain": [
       "plot without title"
      ]
     },
     "metadata": {
      "image/png": {
       "height": 420,
       "width": 420
      }
     },
     "output_type": "display_data"
    }
   ],
   "source": [
    "set.seed(1234)\n",
    "t <- tuneRF(train[, 4:10], train[, 'Approved_Conversion'], stepFactor=0.6, plot=TRUE, ntreeTry=2500, trace=TRUE, improve=20)"
   ]
  },
  {
   "cell_type": "markdown",
   "id": "b14c3b63",
   "metadata": {},
   "source": [
    "As shown in the plot, mtry value of 1 and ntree value of 2500 will give the least error. We will tune model according this data."
   ]
  },
  {
   "cell_type": "code",
   "execution_count": 18,
   "id": "fe66165a",
   "metadata": {},
   "outputs": [
    {
     "name": "stdout",
     "output_type": "stream",
     "text": [
      "\n",
      "Call:\n",
      " randomForest(formula = Approved_Conversion ~ age + gender + interest +      Impressions + Clicks + Spent + Total_Conversion, data = train,      mtry = 1, ntree = 2500, importance = TRUE, proximity = TRUE) \n",
      "               Type of random forest: classification\n",
      "                     Number of trees: 2500\n",
      "No. of variables tried at each split: 1\n",
      "\n",
      "        OOB estimate of  error rate: 33%\n",
      "Confusion matrix:\n",
      "    0   1 class.error\n",
      "0 337  58   0.1468354\n",
      "1 206 199   0.5086420\n"
     ]
    }
   ],
   "source": [
    "set.seed(128)\n",
    "rfmodel4 <- randomForest(Approved_Conversion ~ age+gender+interest+Impressions+Clicks+Spent+Total_Conversion, train, mtry = 1, ntree=2500, importance = TRUE, proximity = TRUE)\n",
    "print(rfmodel4)"
   ]
  },
  {
   "cell_type": "markdown",
   "id": "ae74de39",
   "metadata": {},
   "source": [
    "OOB error has come down to 33% from around 40%, after tuning the model."
   ]
  },
  {
   "cell_type": "code",
   "execution_count": 19,
   "id": "abbf7c4c",
   "metadata": {
    "lines_to_next_cell": 0
   },
   "outputs": [
    {
     "data": {
      "text/plain": [
       "Confusion Matrix and Statistics\n",
       "\n",
       "          Reference\n",
       "Prediction   0   1\n",
       "         0 382 159\n",
       "         1  13 246\n",
       "                                         \n",
       "               Accuracy : 0.785          \n",
       "                 95% CI : (0.7549, 0.813)\n",
       "    No Information Rate : 0.5062         \n",
       "    P-Value [Acc > NIR] : < 2.2e-16      \n",
       "                                         \n",
       "                  Kappa : 0.5719         \n",
       "                                         \n",
       " Mcnemar's Test P-Value : < 2.2e-16      \n",
       "                                         \n",
       "            Sensitivity : 0.9671         \n",
       "            Specificity : 0.6074         \n",
       "         Pos Pred Value : 0.7061         \n",
       "         Neg Pred Value : 0.9498         \n",
       "             Prevalence : 0.4938         \n",
       "         Detection Rate : 0.4775         \n",
       "   Detection Prevalence : 0.6763         \n",
       "      Balanced Accuracy : 0.7872         \n",
       "                                         \n",
       "       'Positive' Class : 0              \n",
       "                                         "
      ]
     },
     "metadata": {},
     "output_type": "display_data"
    }
   ],
   "source": [
    "p3<- predict(rfmodel4, train)\n",
    "confusionMatrix(p3, train$Approved_Conversion)"
   ]
  },
  {
   "cell_type": "code",
   "execution_count": 20,
   "id": "986ba6f3",
   "metadata": {
    "lines_to_next_cell": 0
   },
   "outputs": [
    {
     "data": {
      "text/plain": [
       "Confusion Matrix and Statistics\n",
       "\n",
       "          Reference\n",
       "Prediction   0   1\n",
       "         0 141  82\n",
       "         1  23  97\n",
       "                                          \n",
       "               Accuracy : 0.6939          \n",
       "                 95% CI : (0.6421, 0.7422)\n",
       "    No Information Rate : 0.5219          \n",
       "    P-Value [Acc > NIR] : 6.848e-11       \n",
       "                                          \n",
       "                  Kappa : 0.3957          \n",
       "                                          \n",
       " Mcnemar's Test P-Value : 1.512e-08       \n",
       "                                          \n",
       "            Sensitivity : 0.8598          \n",
       "            Specificity : 0.5419          \n",
       "         Pos Pred Value : 0.6323          \n",
       "         Neg Pred Value : 0.8083          \n",
       "             Prevalence : 0.4781          \n",
       "         Detection Rate : 0.4111          \n",
       "   Detection Prevalence : 0.6501          \n",
       "      Balanced Accuracy : 0.7008          \n",
       "                                          \n",
       "       'Positive' Class : 0               \n",
       "                                          "
      ]
     },
     "metadata": {},
     "output_type": "display_data"
    }
   ],
   "source": [
    "p4<- predict(rfmodel4, test)\n",
    "confusionMatrix(p4, test$Approved_Conversion)"
   ]
  },
  {
   "cell_type": "markdown",
   "id": "2cda4add",
   "metadata": {},
   "source": [
    "After tuning the model and predicting the test data we can see that the accuracy of the model has further improved. Values for attributes such as Sensitivity and Specificity have also improved."
   ]
  },
  {
   "cell_type": "code",
   "execution_count": 21,
   "id": "924bf858",
   "metadata": {},
   "outputs": [
    {
     "data": {
      "image/png": "[encoded data removed]",
      "text/plain": [
       "Plot with title \"No. of nodes for Trees\""
      ]
     },
     "metadata": {
      "image/png": {
       "height": 420,
       "width": 420
      }
     },
     "output_type": "display_data"
    }
   ],
   "source": [
    "hist(treesize(rfmodel4), main='No. of nodes for Trees', col = 'pink')"
   ]
  },
  {
   "cell_type": "markdown",
   "id": "a5d6fdf7",
   "metadata": {},
   "source": [
    "We can see from the histogram, on an average there are >300 nodes per tree"
   ]
  },
  {
   "cell_type": "code",
   "execution_count": 22,
   "id": "e6e1788c",
   "metadata": {
    "lines_to_next_cell": 2
   },
   "outputs": [
    {
     "data": {
      "image/png": "[encoded data removed]",
      "text/plain": [
       "plot without title"
      ]
     },
     "metadata": {
      "image/png": {
       "height": 420,
       "width": 420
      }
     },
     "output_type": "display_data"
    }
   ],
   "source": [
    "varImpPlot(rfmodel4, main='Variable Importance')"
   ]
  },
  {
   "cell_type": "markdown",
   "id": "48683bb5",
   "metadata": {},
   "source": [
    "Plot shows how worse the model will perform without each variable. Simply put, we can say that Total_Conversion has maximum importance in predicting Approved_Conversion. Contribution of interest is very low.\n"
   ]
  }
 ],
 "metadata": {
  "jupytext": {
   "cell_metadata_filter": "-all",
   "main_language": "R",
   "notebook_metadata_filter": "-all"
  },
  "kernelspec": {
   "display_name": "R",
   "language": "R",
   "name": "ir"
  },
  "language_info": {
   "codemirror_mode": "r",
   "file_extension": ".r",
   "mimetype": "text/x-r-source",
   "name": "R",
   "pygments_lexer": "r",
   "version": "4.0.4"
  }
 },
 "nbformat": 4,
 "nbformat_minor": 5
}
